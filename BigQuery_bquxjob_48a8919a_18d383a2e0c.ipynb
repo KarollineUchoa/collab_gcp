{
  "cells": [
    {
      "cell_type": "markdown",
      "metadata": {
        "id": "view-in-github",
        "colab_type": "text"
      },
      "source": [
        "<a href=\"https://colab.research.google.com/github/KarollineUchoa/collab_gcp/blob/main/BigQuery_bquxjob_48a8919a_18d383a2e0c.ipynb\" target=\"_parent\"><img src=\"https://colab.research.google.com/assets/colab-badge.svg\" alt=\"Open In Colab\"/></a>"
      ]
    },
    {
      "cell_type": "code",
      "execution_count": null,
      "metadata": {
        "id": "w6MmeBUBJ-9E"
      },
      "outputs": [],
      "source": [
        "# @title Setup\n",
        "from google.colab import auth\n",
        "from google.cloud import bigquery\n",
        "from google.colab import data_table\n",
        "from google.colab import files\n",

        "\n",
        "project = 'tim-sdbx-ecommerce-378a' # Project ID inserted based on the query results selected to explore\n",
        "location = 'us-east1' # Location inserted based on the query results selected to explore\n",
        "client = bigquery.Client(project=project, location=location)\n",
        "data_table.enable_dataframe_formatter()\n",
        "auth.authenticate_user()"
      ]
    },
    {
      "cell_type": "markdown",
      "metadata": {
        "id": "pj42soltXW_H"
      },
      "source": [
        "## Reference SQL syntax from the original job\n",
        "Use the ```jobs.query```\n",
        "[method](https://cloud.google.com/bigquery/docs/reference/rest/v2/jobs/query) to\n",
        "return the SQL syntax from the job. This can be copied from the output cell\n",
        "below to edit the query now or in the future. Alternatively, you can use\n",
        "[this link](https://console.cloud.google.com/bigquery?j=tim-sdbx-ecommerce-378a:us-east1:bquxjob_48a8919a_18d383a2e0c)\n",
        "back to BigQuery to edit the query within the BigQuery user interface."
      ]
    },
    {
      "cell_type": "code",
      "execution_count": null,
      "metadata": {
        "id": "KxSqPfAeXW_K"
      },
      "outputs": [],
      "source": [
        "# Running this code will display the query used to generate your previous job\n",
        "\n",
        "job = client.get_job('bquxjob_48a8919a_18d383a2e0c') # Job ID inserted based on the query results selected to explore\n",
        "print(job.query)"
      ]
    },
    {
      "cell_type": "markdown",
      "metadata": {
        "id": "eY-wNOGO11ON"
      },
      "source": [
        "# Result set loaded from BigQuery job as a DataFrame\n",
        "Query results are referenced from the Job ID ran from BigQuery and the query\n",
        "does not need to be re-run to explore results. The ```to_dataframe```\n",
        "[method](https://googleapis.dev/python/bigquery/latest/generated/google.cloud.bigquery.job.QueryJob.html#google.cloud.bigquery.job.QueryJob.to_dataframe)\n",
        "downloads the results to a Pandas DataFrame by using the BigQuery Storage API.\n",
        "\n",
        "To edit query syntax, you can do so from the BigQuery SQL editor or in the\n",
        "```Optional:``` sections below."
      ]
    },
    {
      "cell_type": "code",
      "execution_count": null,
      "metadata": {
        "id": "bIw82qhuHWy0"
      },
      "outputs": [],
      "source": [
        "# Running this code will read results from your previous job\n",
        "\n",
        "job = client.get_job('bquxjob_48a8919a_18d383a2e0c') # Job ID inserted based on the query results selected to explore\n",
        "results = job.to_dataframe()\n",
        "results"
      ]
    },
    {
      "cell_type": "code",
      "source": [
        "results.to_csv('results.csv', index=False)"
      ],
      "metadata": {
        "id": "wgo8B_FKACJn"
      },
      "execution_count": null,
      "outputs": []
    },
    {
      "cell_type": "code",
      "source": [
        "files.download('results.csv')"
      ],
      "metadata": {
        "id": "XvboNZldAG9c"
      },
      "execution_count": null,
      "outputs": []
    },
    {
      "cell_type": "markdown",
      "source": [
        "Particionamento"
      ],
      "metadata": {
        "id": "A335vymVAKVC"
      }
    },
    {
      "cell_type": "code",
      "source": [
        "# num_rows = len(results)\n",
        "# partition_size = num_rows // 3"
      ],
      "metadata": {
        "id": "CJAt203gAMxg"
      },
      "execution_count": null,
      "outputs": []
    },
    {
      "cell_type": "code",
      "source": [
        "# part1 = results.iloc[:partition_size]\n",
        "# part2 = results.iloc[partition_size:2*partition_size]\n",
        "# part3 = results.iloc[2*partition_size:]"
      ],
      "metadata": {
        "id": "vV6VyLYVAOr3"
      },
      "execution_count": null,
      "outputs": []
    },
    {
      "cell_type": "code",
      "source": [
        "# part1.to_csv('results_part1.csv', index=False)\n",
        "# part2.to_csv('results_part2.csv', index=False)\n",
        "# part3.to_csv('results_part3.csv', index=False)"
      ],
      "metadata": {
        "id": "VcQCznJaAQO6"
      },
      "execution_count": null,
      "outputs": []
    },
    {
      "cell_type": "code",
      "source": [
        "# files.download('results_part1.csv')"
      ],
      "metadata": {
        "id": "lFZVDqTnARuo"
      },
      "execution_count": null,
      "outputs": []
    },
    {
      "cell_type": "code",
      "source": [
        "# files.download('results_part2.csv')"
      ],
      "metadata": {
        "id": "vSLLZwzEATi-"
      },
      "execution_count": null,
      "outputs": []
    },
    {
      "cell_type": "code",
      "source": [
        "# files.download('results_part3.csv')"
      ],
      "metadata": {
        "id": "tbRsVf_VAU59"
      },
      "execution_count": null,
      "outputs": []
    },
    {
      "cell_type": "markdown",
      "metadata": {
        "id": "84Ub57pbB6EN"
      },
      "source": [
        "## Show descriptive statistics using describe()\n",
        "Use the ```pandas DataFrame.describe()```\n",
        "[method](https://pandas.pydata.org/docs/reference/api/pandas.DataFrame.describe.html)\n",
        "to generate descriptive statistics. Descriptive statistics include those that\n",
        "summarize the central tendency, dispersion and shape of a dataset’s\n",
        "distribution, excluding ```NaN``` values. You may also use other Python methods\n",
        "to interact with your data."
      ]
    },
    {
      "cell_type": "code",
      "execution_count": null,
      "metadata": {
        "id": "fsAsHoWDZMpv"
      },
      "outputs": [],
      "source": [
        "results.describe()"
      ]
    }
  ],
  "metadata": {
    "colab": {
      "cell_execution_strategy": "setup",
      "name": "BigQuery bquxjob_48a8919a_18d383a2e0c",
      "provenance": [],
      "include_colab_link": true
    },
    "kernelspec": {
      "display_name": "Python 3",
      "name": "python3"
    },
    "language_info": {
      "name": "python"
    }
  },
  "nbformat": 4,
  "nbformat_minor": 0
}
